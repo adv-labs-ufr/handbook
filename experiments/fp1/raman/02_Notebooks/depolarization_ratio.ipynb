{
 "cells": [
  {
   "cell_type": "markdown",
   "id": "c706a4d0",
   "metadata": {},
   "source": [
    "\n",
    "# Raman: Depolarization Ratio — Tutorial Notebook\n",
    "\n",
    "> **Goal:** Provide a guided workflow (not a full solution) to compute and interpret Raman depolarization ratios  \n",
    "> rho = I_perp / I_parallel from polarized Raman measurements.  \n",
    "> We'll simulate small example datasets, write helper functions you can reuse, and leave **Try it** tasks throughout.\n",
    "\n",
    "**What you’ll practice**\n",
    "- Simulating polarized Raman spectra (parallel vs. perpendicular detection)\n",
    "- Estimating depolarization ratios at peak positions (integration or simple fits)\n",
    "- Correcting for instrument polarization bias with a calibration factor\n",
    "- Propagating uncertainties (analytical and via Monte-Carlo)\n",
    "- Designing a simple data format for your own measurements\n"
   ]
  },
  {
   "cell_type": "code",
   "execution_count": null,
   "id": "7e2807f0",
   "metadata": {},
   "outputs": [],
   "source": [
    "\n",
    "import numpy as np\n",
    "import pandas as pd\n",
    "import matplotlib.pyplot as plt\n",
    "from scipy.optimize import curve_fit\n",
    "\n",
    "plt.rcParams[\"figure.figsize\"] = (7, 4)\n",
    "plt.rcParams[\"axes.grid\"] = True\n",
    "print(\"Imports ready.\")\n"
   ]
  },
  {
   "cell_type": "markdown",
   "id": "7879655e",
   "metadata": {},
   "source": [
    "\n",
    "## Background (very short)\n",
    "\n",
    "- Definition: The depolarization ratio for a Raman band is rho = I_perp / I_parallel,\n",
    "  where I_parallel and I_perp are detected intensities with analyzer parallel and perpendicular to the incident polarization.\n",
    "- Instrument bias: Real optics rarely treat polarizations equally. Measure an instrument factor C (e.g. with a standard)\n",
    "  and correct raw intensities via rho_corr = (I_perp/I_parallel) * Gamma, where Gamma = C_parallel / C_perp.\n",
    "- Noise & uncertainty: Treat counting noise and baseline errors. We'll include simple error bars and a small Monte-Carlo.\n",
    "\n",
    "This notebook intentionally avoids theory heavy-lifting. Use it as a scaffold.\n"
   ]
  },
  {
   "cell_type": "code",
   "execution_count": null,
   "id": "759a9c33",
   "metadata": {},
   "outputs": [],
   "source": [
    "\n",
    "def gaussian(x, A, x0, sigma):\n",
    "    return A * np.exp(-0.5 * ((x - x0)/sigma)**2)\n",
    "\n",
    "def make_synthetic_band(x, center, width, I_par, rho):\n",
    "    '''\n",
    "    Create a polarized Raman band with intrinsic depolarization ratio rho.\n",
    "    Returns (I_par_profile, I_perp_profile) without instrument bias.\n",
    "    '''\n",
    "    prof = gaussian(x, A=I_par, x0=center, sigma=width)\n",
    "    Ipar = prof\n",
    "    Iperp = rho * prof\n",
    "    return Ipar, Iperp\n",
    "\n",
    "def add_baseline_and_noise(y, baseline_level=50.0, slope=0.0, noise_sigma=5.0, rng=None):\n",
    "    rng = np.random.default_rng(rng)\n",
    "    baseline = baseline_level + slope\n",
    "    noisy = y + baseline + rng.normal(0.0, noise_sigma, size=y.size)\n",
    "    return noisy\n",
    "\n",
    "def integrate_window(x, y, center, half_width):\n",
    "    mask = (x >= center - half_width) & (x <= center + half_width)\n",
    "    area = np.trapz(y[mask], x[mask])\n",
    "    return area\n",
    "\n",
    "def estimate_rho_by_integration(x, Ipar, Iperp, center, half_width, gamma=1.0):\n",
    "    '''\n",
    "    Integration-based estimator for rho with instrument factor gamma (C_parallel/C_perp).\n",
    "    '''\n",
    "    A_par = integrate_window(x, Ipar, center, half_width)\n",
    "    A_perp = integrate_window(x, Iperp, center, half_width)\n",
    "    rho_raw = (A_perp / A_par) if A_par != 0 else np.nan\n",
    "    rho_corr = rho_raw * gamma\n",
    "    return rho_corr, dict(A_par=A_par, A_perp=A_perp, rho_raw=rho_raw, gamma=gamma)\n",
    "\n",
    "def estimate_rho_by_fit(x, Ipar, Iperp, guess_center, guess_sigma, gamma=1.0):\n",
    "    '''\n",
    "    Fit Gaussians separately to parallel and perpendicular near the band.\n",
    "    The ratio of fitted amplitudes gives rho_raw, then apply gamma.\n",
    "    '''\n",
    "    win = (x > guess_center - 4*guess_sigma) & (x < guess_center + 4*guess_sigma)\n",
    "    xx, yp, ys = x[win], Ipar[win], Iperp[win]\n",
    "    A0p = max(1.0, (yp.max() - np.median(yp)))\n",
    "    A0s = max(1.0, (ys.max() - np.median(ys)))\n",
    "    try:\n",
    "        popt_par, _ = curve_fit(lambda t, A, x0, s: gaussian(t, A, x0, s),\n",
    "                                xx, yp, p0=[A0p, guess_center, guess_sigma], maxfev=5000)\n",
    "        popt_perp, _ = curve_fit(lambda t, A, x0, s: gaussian(t, A, x0, s),\n",
    "                                 xx, ys, p0=[A0s, guess_center, guess_sigma], maxfev=5000)\n",
    "        A_par, x0p, sp = popt_par\n",
    "        A_perp, x0s, ss = popt_perp\n",
    "        rho_raw = A_perp / A_par if A_par != 0 else np.nan\n",
    "        rho_corr = rho_raw * gamma\n",
    "        return rho_corr, dict(A_par=A_par, A_perp=A_perp, rho_raw=rho_raw,\n",
    "                              centers=(x0p, x0s), sigmas=(sp, ss), gamma=gamma)\n",
    "    except Exception as e:\n",
    "        return np.nan, {\"error\": str(e)}\n",
    "\n",
    "def propagate_ratio_uncertainty(A_perp, A_par, s_perp, s_par, gamma=1.0, s_gamma=0.0):\n",
    "    '''\n",
    "    Analytical error propagation for R = (A_perp/A_par) * gamma, uncorrelated uncertainties.\n",
    "    '''\n",
    "    if A_perp<=0 or A_par<=0:\n",
    "        return np.nan\n",
    "    R = (A_perp / A_par) * gamma\n",
    "    dR = R * np.sqrt( (s_perp/A_perp)**2 + (s_par/A_par)**2 + ((s_gamma/gamma) if gamma!=0 else 0)**2 )\n",
    "    return R, dR\n",
    "\n",
    "def monte_carlo_rho(A_perp, A_par, s_perp, s_par, gamma=1.0, s_gamma=0.0, n=20000, rng=None):\n",
    "    rng = np.random.default_rng(rng)\n",
    "    Ap = rng.normal(A_par, s_par, size=n)\n",
    "    As = rng.normal(A_perp, s_perp, size=n)\n",
    "    G  = rng.normal(gamma, s_gamma, size=n) if s_gamma>0 else np.full(n, gamma)\n",
    "    R  = (As/Ap) * G\n",
    "    return np.nanmean(R), np.nanstd(R, ddof=1)\n"
   ]
  },
  {
   "cell_type": "markdown",
   "id": "df75340a",
   "metadata": {},
   "source": [
    "\n",
    "## Simulate a tiny polarized dataset\n",
    "\n",
    "We'll create two bands with different intrinsic rho, add baseline + noise, and then pretend these are measured\n",
    "I_parallel and I_perp. We'll also apply a fixed instrument factor Gamma to mimic unequal throughput.\n"
   ]
  },
  {
   "cell_type": "code",
   "execution_count": null,
   "id": "252ce132",
   "metadata": {},
   "outputs": [],
   "source": [
    "\n",
    "rng_seed = 42\n",
    "x = np.linspace(200, 1800, 2000)  # Raman shift [cm^-1]\n",
    "\n",
    "band1 = {\"center\": 520.0, \"sigma\": 6.0,  \"Ipar\": 800.0, \"rho\": 0.10}\n",
    "band2 = {\"center\": 1000.0,\"sigma\": 10.0, \"Ipar\": 600.0, \"rho\": 0.75}\n",
    "\n",
    "Ipar_true1, Iperp_true1 = make_synthetic_band(x, band1[\"center\"], band1[\"sigma\"], band1[\"Ipar\"], band1[\"rho\"])\n",
    "Ipar_true2, Iperp_true2 = make_synthetic_band(x, band2[\"center\"], band2[\"sigma\"], band2[\"Ipar\"], band2[\"rho\"])\n",
    "\n",
    "Ipar_true = Ipar_true1 + Ipar_true2\n",
    "Iperp_true = Iperp_true1 + Iperp_true2\n",
    "\n",
    "Gamma = 0.92  # C_parallel/C_perp\n",
    "\n",
    "Ipar_bias = Ipar_true * 1.00\n",
    "Iperp_bias = Iperp_true * (1.00 / Gamma)\n",
    "\n",
    "Ipar_meas  = add_baseline_and_noise(Ipar_bias, baseline_level=50, slope=0, noise_sigma=7.5, rng=rng_seed)\n",
    "Iperp_meas = add_baseline_and_noise(Iperp_bias, baseline_level=50, slope=0, noise_sigma=7.5, rng=rng_seed+1)\n",
    "\n",
    "df = pd.DataFrame({\"shift_cm-1\": x, \"I_parallel\": Ipar_meas, \"I_perpendicular\": Iperp_meas})\n",
    "df.head()\n"
   ]
  },
  {
   "cell_type": "code",
   "execution_count": null,
   "id": "ea44a1c2",
   "metadata": {},
   "outputs": [],
   "source": [
    "\n",
    "plt.figure()\n",
    "plt.plot(df[\"shift_cm-1\"].values, df[\"I_parallel\"].values, label=\"I_parallel (meas)\")\n",
    "plt.plot(df[\"shift_cm-1\"].values, df[\"I_perpendicular\"].values, label=\"I_perpendicular (meas)\")\n",
    "plt.xlabel(\"Raman shift [cm$^{-1}$]\")\n",
    "plt.ylabel(\"Intensity [a.u.]\")\n",
    "plt.title(\"Synthetic polarized Raman spectra (with baseline & noise)\")\n",
    "plt.legend()\n",
    "plt.tight_layout()\n",
    "plt.show()\n"
   ]
  },
  {
   "cell_type": "markdown",
   "id": "5e3bd57e",
   "metadata": {},
   "source": [
    "\n",
    "## Estimate rho by window integration\n",
    "\n",
    "We'll integrate in a small window around each band center and apply the known Gamma correction.\n"
   ]
  },
  {
   "cell_type": "code",
   "execution_count": null,
   "id": "db277cc3",
   "metadata": {},
   "outputs": [],
   "source": [
    "\n",
    "half_widths = {520.0: 20.0, 1000.0: 30.0}\n",
    "results_int = []\n",
    "\n",
    "for center, hw in half_widths.items():\n",
    "    rho_est, aux = estimate_rho_by_integration(df[\"shift_cm-1\"].values,\n",
    "                                               df[\"I_parallel\"].values,\n",
    "                                               df[\"I_perpendicular\"].values,\n",
    "                                               center=center, half_width=hw, gamma=Gamma)\n",
    "    results_int.append({\"center\": center, \"rho_int\": rho_est, **aux})\n",
    "\n",
    "pd.DataFrame(results_int)\n"
   ]
  },
  {
   "cell_type": "markdown",
   "id": "0202935a",
   "metadata": {},
   "source": [
    "\n",
    "## Estimate rho by simple Gaussian fits\n",
    "\n",
    "Fit the parallel and perpendicular channels separately near each band (lightweight, not a full multi-peak routine).\n"
   ]
  },
  {
   "cell_type": "code",
   "execution_count": null,
   "id": "56395044",
   "metadata": {},
   "outputs": [],
   "source": [
    "\n",
    "guess = {520.0: 6.0, 1000.0: 10.0}\n",
    "results_fit = []\n",
    "\n",
    "for center, sig in guess.items():\n",
    "    rho_est, aux = estimate_rho_by_fit(df[\"shift_cm-1\"].values,\n",
    "                                       df[\"I_parallel\"].values,\n",
    "                                       df[\"I_perpendicular\"].values,\n",
    "                                       guess_center=center, guess_sigma=sig, gamma=Gamma)\n",
    "    results_fit.append({\"center\": center, \"rho_fit\": rho_est, **aux})\n",
    "\n",
    "pd.DataFrame(results_fit)\n"
   ]
  },
  {
   "cell_type": "markdown",
   "id": "2f4fb05f",
   "metadata": {},
   "source": [
    "\n",
    "## Uncertainty: analytical & Monte-Carlo\n",
    "\n",
    "We'll pretend the integrated areas have ~2% relative uncertainty (toy model) and see how that propagates into rho.\n"
   ]
  },
  {
   "cell_type": "code",
   "execution_count": null,
   "id": "a0e324dc",
   "metadata": {},
   "outputs": [],
   "source": [
    "\n",
    "unc_results = []\n",
    "for r in results_int:\n",
    "    A_par, A_perp = r[\"A_par\"], r[\"A_perp\"]\n",
    "    s_par = 0.02 * A_par\n",
    "    s_perp = 0.02 * A_perp\n",
    "    R_ana, dR_ana = propagate_ratio_uncertainty(A_perp, A_par, s_perp, s_par, gamma=Gamma, s_gamma=0.01)\n",
    "    R_mc, sR_mc   = monte_carlo_rho(A_perp, A_par, s_perp, s_par, gamma=Gamma, s_gamma=0.01, n=20000, rng=123)\n",
    "    unc_results.append({\"center\": r[\"center\"], \"R_analytical\": R_ana, \"sigma_analytical\": dR_ana,\n",
    "                        \"R_MC\": R_mc, \"sigma_MC\": sR_mc})\n",
    "pd.DataFrame(unc_results)\n"
   ]
  },
  {
   "cell_type": "markdown",
   "id": "0d409569",
   "metadata": {},
   "source": [
    "\n",
    "### Visual check of local windows (optional)\n",
    "\n",
    "Plot parallel and perpendicular around each band center. Handy to debug your window choices on your own data.\n"
   ]
  },
  {
   "cell_type": "code",
   "execution_count": null,
   "id": "7b29ac1d",
   "metadata": {},
   "outputs": [],
   "source": [
    "\n",
    "for center, hw in half_widths.items():\n",
    "    mask = (df[\"shift_cm-1\"].values > center-4*hw) & (df[\"shift_cm-1\"].values < center+4*hw)\n",
    "    xx = df[\"shift_cm-1\"].values[mask]\n",
    "    yp = df[\"I_parallel\"].values[mask]\n",
    "    ys = df[\"I_perpendicular\"].values[mask]\n",
    "    plt.figure()\n",
    "    plt.plot(xx, yp, label=\"parallel\")\n",
    "    plt.plot(xx, ys, label=\"perpendicular\")\n",
    "    plt.axvspan(center-hw, center+hw, alpha=0.15)\n",
    "    plt.xlabel(\"Raman shift [cm$^{-1}$]\")\n",
    "    plt.ylabel(\"Intensity [a.u.]\")\n",
    "    plt.title(f\"Local window around {center:.0f} cm$^{{-1}}$\")\n",
    "    plt.legend()\n",
    "    plt.tight_layout()\n",
    "    plt.show()\n"
   ]
  },
  {
   "cell_type": "markdown",
   "id": "c3d1b202",
   "metadata": {},
   "source": [
    "\n",
    "## Bring your own data (BYOD)\n",
    "\n",
    "Expected CSV schema (one spectrum per file or both channels in one file):\n",
    "\n",
    "- Columns: shift_cm-1, I_parallel, I_perpendicular\n",
    "- Shift must be monotonic (ascending). Intensities in a.u.\n",
    "- Store your instrument factor(s) Gamma in metadata or a separate JSON/YAML.\n",
    "\n",
    "Below is a template reader that you can adapt. Keep this in sync with your real export!\n"
   ]
  },
  {
   "cell_type": "code",
   "execution_count": null,
   "id": "dbe31171",
   "metadata": {},
   "outputs": [],
   "source": [
    "\n",
    "def read_polarized_csv(path):\n",
    "    '''\n",
    "    Minimal CSV reader for columns:\n",
    "    shift_cm-1, I_parallel, I_perpendicular\n",
    "    '''\n",
    "    df = pd.read_csv(path)\n",
    "    req = {\"shift_cm-1\", \"I_parallel\", \"I_perpendicular\"}\n",
    "    missing = req - set(df.columns)\n",
    "    if missing:\n",
    "        raise ValueError(f\"CSV missing columns: {missing}\")\n",
    "    if not (np.all(np.diff(df[\"shift_cm-1\"].values) > 0)):\n",
    "        raise ValueError(\"shift_cm-1 must be strictly increasing\")\n",
    "    return df\n",
    "\n",
    "print(\"Reader ready. Use read_polarized_csv('your_file.csv')\")\n"
   ]
  },
  {
   "cell_type": "markdown",
   "id": "532c8909",
   "metadata": {},
   "source": [
    "\n",
    "## Try it (prompts, not solutions)\n",
    "\n",
    "1. Your windows: On the synthetic data, change half_widths and inspect how rho changes. What’s a robust window?\n",
    "2. Background bias: Add a sloped baseline in add_baseline_and_noise and see how integration vs. fitting behaves.\n",
    "3. Gamma sweep: Vary Gamma between 0.8–1.2 and add an uncertainty s_gamma. Which bands are most sensitive?\n",
    "4. Peak overlap: Add a 3rd nearby band and test whether single-peak fitting becomes biased. How would you improve it?\n",
    "5. CSV import: Export a tiny slice of df to CSV (df.to_csv('demo.csv', index=False)), reload with read_polarized_csv, run your estimators.\n",
    "6. Error model: Replace the “2% area” toy model with Poisson-like noise estimated from counts; compare analytical vs. MC.\n"
   ]
  },
  {
   "cell_type": "markdown",
   "id": "f5088857",
   "metadata": {},
   "source": [
    "\n",
    "---\n",
    "\n",
    "### Appendix: Notes & future extensions\n",
    "- Replace the single-peak gaussian with Voigt or constrained multi-peak models for overlapping bands.\n",
    "- Move generic helpers to a shared helper_peakfit_functions.ipynb or a small .py module.\n",
    "- Consider polarization standards (e.g., toluene) to measure Gamma.\n",
    "- For anisotropic samples, rho may depend on scattering geometry and sample orientation—document your setup!\n"
   ]
  }
 ],
 "metadata": {
  "kernelspec": {
   "display_name": "Python 3 (ipykernel)",
   "language": "python",
   "name": "python3"
  },
  "language_info": {
   "codemirror_mode": {
    "name": "ipython",
    "version": 3
   },
   "file_extension": ".py",
   "mimetype": "text/x-python",
   "name": "python",
   "nbconvert_exporter": "python",
   "pygments_lexer": "ipython3",
   "version": "3.11.5"
  }
 },
 "nbformat": 4,
 "nbformat_minor": 5
}
