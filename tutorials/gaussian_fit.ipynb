{
 "cells": [
  {
   "cell_type": "markdown",
   "id": "c85503eb",
   "metadata": {},
   "source": [
    "# Gaussian Fit Tutorial\n",
    "\n",
    "This notebook demonstrates how to perform a simple Gaussian fit using NumPy and SciPy."
   ]
  },
  {
   "cell_type": "code",
   "execution_count": null,
   "id": "f39a1f3d",
   "metadata": {},
   "outputs": [],
   "source": [
    "import numpy as np\n",
    "from scipy.optimize import curve_fit\n",
    "import matplotlib.pyplot as plt"
   ]
  },
  {
   "cell_type": "code",
   "execution_count": null,
   "id": "df05f403",
   "metadata": {},
   "outputs": [],
   "source": [
    "rng = np.random.default_rng(42)\n",
    "x = np.linspace(-5, 5, 200)\n",
    "true_params = (1.0, 0.0, 1.5)\n",
    "def gaussian(x, amplitude, mean, sigma):\n",
    "    return amplitude * np.exp(-((x - mean) ** 2) / (2 * sigma ** 2))\n",
    "y = gaussian(x, *true_params) + 0.05 * rng.standard_normal(x.size)\n",
    "popt, pcov = curve_fit(gaussian, x, y, p0=(0.8, -0.2, 1.0))\n",
    "popt"
   ]
  },
  {
   "cell_type": "code",
   "execution_count": null,
   "id": "93093214",
   "metadata": {},
   "outputs": [],
   "source": [
    "plt.figure(figsize=(6, 4))\n",
    "plt.scatter(x, y, s=10, label='Data')\n",
    "plt.plot(x, gaussian(x, *popt), color='crimson', label='Fit')\n",
    "plt.legend()\n",
    "plt.xlabel('x')\n",
    "plt.ylabel('Intensity')\n",
    "plt.title('Gaussian Fit Example')\n",
    "plt.show()"
   ]
  }
 ],
 "metadata": {
  "kernelspec": {
   "display_name": "Python 3",
   "language": "python",
   "name": "python3"
  },
  "language_info": {
   "name": "python",
   "version": "3.10"
  }
 },
 "nbformat": 4,
 "nbformat_minor": 5
}
