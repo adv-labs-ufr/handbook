{
 "cells": [
  {
   "cell_type": "markdown",
   "id": "c407d713",
   "metadata": {},
   "source": [
    "# Bootstrap Resampling Demo\n",
    "\n",
    "Demonstrates estimating uncertainty in a sample mean via bootstrap resampling.\n"
   ]
  },
  {
   "cell_type": "code",
   "execution_count": null,
   "id": "028d0ce9",
   "metadata": {},
   "outputs": [],
   "source": [
    "import numpy as np\n",
    "import matplotlib.pyplot as plt\n",
    "\n",
    "np.random.seed(0)\n",
    "N = 40\n",
    "data = np.random.normal(loc=5.0, scale=2.0, size=N)\n",
    "\n",
    "# Bootstrap\n",
    "n_boot = 1000\n",
    "boot_means = np.array([\n",
    "    np.mean(np.random.choice(data, size=N, replace=True))\n",
    "    for _ in range(n_boot)\n",
    "])\n",
    "\n",
    "mean = np.mean(data)\n",
    "sigma_boot = np.std(boot_means)\n",
    "\n",
    "# Plot\n",
    "plt.hist(boot_means, bins=25, color='lightblue', edgecolor='k')\n",
    "plt.axvline(mean, color='r', lw=2, label=f\"mean = {mean:.2f}\")\n",
    "plt.axvline(mean - sigma_boot, color='gray', ls='--')\n",
    "plt.axvline(mean + sigma_boot, color='gray', ls='--')\n",
    "plt.xlabel(\"Bootstrap sample mean\")\n",
    "plt.ylabel(\"Frequency\")\n",
    "plt.title(\"Bootstrap Resampling Demo\")\n",
    "plt.legend()\n",
    "plt.show()\n",
    "\n",
    "print(f\"Sample mean = {mean:.3f}\")\n",
    "print(f\"Bootstrap σ ≈ {sigma_boot:.3f}\")\n"
   ]
  }
 ],
 "metadata": {
  "kernelspec": {
   "display_name": "Python 3 (ipykernel)",
   "language": "python",
   "name": "python3"
  },
  "language_info": {
   "codemirror_mode": {
    "name": "ipython",
    "version": 3
   },
   "file_extension": ".py",
   "mimetype": "text/x-python",
   "name": "python",
   "nbconvert_exporter": "python",
   "pygments_lexer": "ipython3",
   "version": "3.11"
  }
 },
 "nbformat": 4,
 "nbformat_minor": 5
}
