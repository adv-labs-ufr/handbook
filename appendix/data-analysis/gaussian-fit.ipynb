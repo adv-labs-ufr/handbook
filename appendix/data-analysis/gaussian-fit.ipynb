{
 "cells": [
  {
   "cell_type": "markdown",
   "id": "578daf54",
   "metadata": {},
   "source": [
    "# Gaussian Fit Walkthrough\n",
    "\n",
    "Demonstrates curve fitting of synthetic Gaussian data with noise.\n"
   ]
  },
  {
   "cell_type": "code",
   "execution_count": null,
   "id": "6d1656fe",
   "metadata": {},
   "outputs": [],
   "source": [
    "import numpy as np\n",
    "import matplotlib.pyplot as plt\n",
    "from scipy.optimize import curve_fit\n",
    "\n",
    "# Define model\n",
    "def gaussian(x, A, mu, sigma):\n",
    "    return A * np.exp(-(x - mu)**2 / (2*sigma**2))\n",
    "\n",
    "# Generate synthetic data\n",
    "np.random.seed(42)\n",
    "x = np.linspace(-5, 5, 60)\n",
    "y_true = gaussian(x, A=1.0, mu=0.0, sigma=1.0)\n",
    "y_noise = y_true + 0.05 * np.random.normal(size=len(x))\n",
    "\n",
    "# Fit model\n",
    "popt, pcov = curve_fit(gaussian, x, y_noise, p0=[1, 0, 1])\n",
    "A, mu, sigma = popt\n",
    "perr = np.sqrt(np.diag(pcov))\n",
    "\n",
    "# Plot data and fit\n",
    "plt.figure(figsize=(6, 4))\n",
    "plt.scatter(x, y_noise, label='Data', color='steelblue')\n",
    "plt.plot(x, gaussian(x, *popt), 'r-', label='Fit')\n",
    "plt.xlabel(\"x\")\n",
    "plt.ylabel(\"y\")\n",
    "plt.legend()\n",
    "plt.title(\"Gaussian Fit\")\n",
    "\n",
    "# Residuals\n",
    "plt.figure(figsize=(6, 2))\n",
    "plt.scatter(x, y_noise - gaussian(x, *popt), color='gray')\n",
    "plt.axhline(0, color='k', lw=1)\n",
    "plt.xlabel(\"x\")\n",
    "plt.ylabel(\"Residuals\")\n",
    "plt.tight_layout()\n",
    "plt.show()\n",
    "\n",
    "print(f\"A = {A:.3f} ± {perr[0]:.3f}\")\n",
    "print(f\"μ = {mu:.3f} ± {perr[1]:.3f}\")\n",
    "print(f\"σ = {sigma:.3f} ± {perr[2]:.3f}\")\n"
   ]
  }
 ],
 "metadata": {
  "kernelspec": {
   "display_name": "Python 3 (ipykernel)",
   "language": "python",
   "name": "python3"
  },
  "language_info": {
   "codemirror_mode": {
    "name": "ipython",
    "version": 3
   },
   "file_extension": ".py",
   "mimetype": "text/x-python",
   "name": "python",
   "nbconvert_exporter": "python",
   "pygments_lexer": "ipython3",
   "version": "3.11"
  }
 },
 "nbformat": 4,
 "nbformat_minor": 5
}
