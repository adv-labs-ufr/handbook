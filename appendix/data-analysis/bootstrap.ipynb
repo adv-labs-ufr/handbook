{
  "cells": [
    {
      "cell_type": "markdown",
      "metadata": {},
      "source": [
        "# Bootstrap Resampling Demo\n",
        "This placeholder notebook will show how to estimate uncertainties using bootstrap resampling."
      ]
    }
  ],
  "metadata": {
    "kernelspec": {
      "display_name": "Python 3",
      "language": "python",
      "name": "python3"
    },
    "language_info": {
      "name": "python",
      "version": "3.10"
    }
  },
  "nbformat": 4,
  "nbformat_minor": 5
}